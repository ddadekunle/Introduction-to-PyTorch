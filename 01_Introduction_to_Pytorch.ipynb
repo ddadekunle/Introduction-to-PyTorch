{
  "nbformat": 4,
  "nbformat_minor": 0,
  "metadata": {
    "colab": {
      "name": "01 Introduction to Pytorch.ipynb",
      "provenance": [],
      "authorship_tag": "ABX9TyPBExfOB7Lq0xsY0Y3gFp+a"
    },
    "kernelspec": {
      "name": "python3",
      "display_name": "Python 3"
    }
  },
  "cells": [
    {
      "cell_type": "code",
      "metadata": {
        "id": "Ul9tws--GaVI",
        "colab_type": "code",
        "colab": {}
      },
      "source": [
        "# import PyTorch\n",
        "import torch\n"
      ],
      "execution_count": 0,
      "outputs": []
    },
    {
      "cell_type": "code",
      "metadata": {
        "id": "TM309OW5Gid1",
        "colab_type": "code",
        "colab": {}
      },
      "source": [
        "# Write the Activation function (in this case sigmoid)\n",
        "def activation(x):\n",
        "  return 1/(1 + torch.exp(-x))"
      ],
      "execution_count": 0,
      "outputs": []
    },
    {
      "cell_type": "code",
      "metadata": {
        "id": "L6B2HvspHtSn",
        "colab_type": "code",
        "outputId": "b8454c58-72c3-4352-952a-8e5ff1ba63ed",
        "colab": {
          "base_uri": "https://localhost:8080/",
          "height": 34
        }
      },
      "source": [
        "# Generate a seed to determine degree of randomness\n",
        "torch.manual_seed(7)\n",
        "\n",
        "# Use Pytorch randn to generate random normal distribution as a 1 by 5 matrix\n",
        "features = torch.randn((1,5))\n",
        "\n",
        "# Use rand_like to create another random matrix with the same size and shapes as features\n",
        "weights = torch.randn_like(features)\n",
        "\n",
        "# Create a bias with a randomly generated single value\n",
        "bias = torch.randn((1,1))\n",
        "\n",
        "print(features, weights, bias)"
      ],
      "execution_count": 0,
      "outputs": [
        {
          "output_type": "stream",
          "text": [
            "tensor([[-0.1468,  0.7861,  0.9468, -1.1143,  1.6908]]) tensor([[-0.8948, -0.3556,  1.2324,  0.1382, -1.6822]]) tensor([[0.3177]])\n"
          ],
          "name": "stdout"
        }
      ]
    },
    {
      "cell_type": "code",
      "metadata": {
        "id": "FdO2pnNsggHG",
        "colab_type": "code",
        "colab": {}
      },
      "source": [
        "# Calculate the output of the neural network \n",
        "y = activation(torch.sum(features * weights) + bias)"
      ],
      "execution_count": 0,
      "outputs": []
    },
    {
      "cell_type": "code",
      "metadata": {
        "id": "n9Bwn6-4f1sm",
        "colab_type": "code",
        "outputId": "aeacec22-90d9-46d4-a3d2-e26e185a0274",
        "colab": {
          "base_uri": "https://localhost:8080/",
          "height": 34
        }
      },
      "source": [
        "print(y)"
      ],
      "execution_count": 0,
      "outputs": [
        {
          "output_type": "stream",
          "text": [
            "tensor([[0.1595]])\n"
          ],
          "name": "stdout"
        }
      ]
    },
    {
      "cell_type": "code",
      "metadata": {
        "id": "RHEYrt_Wg6_h",
        "colab_type": "code",
        "outputId": "628f1476-d096-4aa6-c70b-bf04697a49f9",
        "colab": {
          "base_uri": "https://localhost:8080/",
          "height": 34
        }
      },
      "source": [
        "# We can also use PyTorch's matric multiplication function\n",
        "y = activation(torch.mm(features, weights.view(5,1)) + bias)\n",
        "print(y)"
      ],
      "execution_count": 0,
      "outputs": [
        {
          "output_type": "stream",
          "text": [
            "tensor([[0.1595]])\n"
          ],
          "name": "stdout"
        }
      ]
    },
    {
      "cell_type": "code",
      "metadata": {
        "id": "LF78mpatjFgq",
        "colab_type": "code",
        "colab": {}
      },
      "source": [
        ""
      ],
      "execution_count": 0,
      "outputs": []
    }
  ]
}