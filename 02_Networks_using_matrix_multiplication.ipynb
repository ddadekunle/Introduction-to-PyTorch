{
  "nbformat": 4,
  "nbformat_minor": 0,
  "metadata": {
    "colab": {
      "name": "02 Networks using matrix multiplication.ipynb",
      "provenance": [],
      "authorship_tag": "ABX9TyM4ady2AhwJdoU6SierFWs9",
      "include_colab_link": true
    },
    "kernelspec": {
      "name": "python3",
      "display_name": "Python 3"
    }
  },
  "cells": [
    {
      "cell_type": "markdown",
      "metadata": {
        "id": "view-in-github",
        "colab_type": "text"
      },
      "source": [
        "<a href=\"https://colab.research.google.com/github/ddadekunle/Introduction-to-PyTorch/blob/master/02_Networks_using_matrix_multiplication.ipynb\" target=\"_parent\"><img src=\"https://colab.research.google.com/assets/colab-badge.svg\" alt=\"Open In Colab\"/></a>"
      ]
    },
    {
      "cell_type": "code",
      "metadata": {
        "id": "mZM-HKfyvGno",
        "colab_type": "code",
        "colab": {}
      },
      "source": [
        "# import pytorch\n",
        "import torch"
      ],
      "execution_count": 0,
      "outputs": []
    },
    {
      "cell_type": "code",
      "metadata": {
        "id": "4xvnNvy_mdDe",
        "colab_type": "code",
        "colab": {
          "base_uri": "https://localhost:8080/",
          "height": 34
        },
        "outputId": "491ff8f6-2a08-447b-a1f8-1e89b74d8e13"
      },
      "source": [
        "# We want to work with matrix weight and not not a single vector\n",
        "\n",
        "torch.manual_seed(7)"
      ],
      "execution_count": 40,
      "outputs": [
        {
          "output_type": "execute_result",
          "data": {
            "text/plain": [
              "<torch._C.Generator at 0x7f68312e9d10>"
            ]
          },
          "metadata": {
            "tags": []
          },
          "execution_count": 40
        }
      ]
    },
    {
      "cell_type": "code",
      "metadata": {
        "id": "DlFTa03ZmyUZ",
        "colab_type": "code",
        "colab": {}
      },
      "source": [
        "# This is the input unit\n",
        "features = torch.randn((1,3))\n"
      ],
      "execution_count": 0,
      "outputs": []
    },
    {
      "cell_type": "code",
      "metadata": {
        "id": "Lg8Ylg2mm9xa",
        "colab_type": "code",
        "colab": {}
      },
      "source": [
        "# define the sizes of each layer in the network\n",
        "n_input = features.shape[1] # number of input unit, must match number of input features\n",
        "n_hidden = 2 # number of hidden units\n",
        "n_output = 1 # number of output unit\n"
      ],
      "execution_count": 0,
      "outputs": []
    },
    {
      "cell_type": "code",
      "metadata": {
        "id": "vW6o12dLnSka",
        "colab_type": "code",
        "colab": {}
      },
      "source": [
        "W1 = torch.randn(n_input, n_hidden) # weight for input to hidden layer\n",
        "\n",
        "W2 = torch.randn(n_hidden, n_output) # weight for hidden layer to output\n"
      ],
      "execution_count": 0,
      "outputs": []
    },
    {
      "cell_type": "code",
      "metadata": {
        "id": "j1NLh88ynnTL",
        "colab_type": "code",
        "colab": {}
      },
      "source": [
        "B1 = torch.randn((1, n_hidden)) # bias for hidden layer\n",
        "\n",
        "B2 = torch.randn((1, n_output)) # bias for output layer\n"
      ],
      "execution_count": 0,
      "outputs": []
    },
    {
      "cell_type": "code",
      "metadata": {
        "id": "tfnMwWj8u7ws",
        "colab_type": "code",
        "colab": {}
      },
      "source": [
        "# sigmoid activation function\n",
        "def activation(x):\n",
        "  return 1/(1 + torch.exp(-x))\n",
        "  "
      ],
      "execution_count": 0,
      "outputs": []
    },
    {
      "cell_type": "code",
      "metadata": {
        "id": "dAs-rYOEwb6W",
        "colab_type": "code",
        "colab": {
          "base_uri": "https://localhost:8080/",
          "height": 34
        },
        "outputId": "5587b4aa-675d-44b0-de1a-3e0138373414"
      },
      "source": [
        "h = activation(torch.mm(features, W1) + B1)\n",
        "\n",
        "output = activation(torch.mm(h, W2) + B2)\n",
        "\n",
        "print(output)"
      ],
      "execution_count": 46,
      "outputs": [
        {
          "output_type": "stream",
          "text": [
            "tensor([[0.3171]])\n"
          ],
          "name": "stdout"
        }
      ]
    },
    {
      "cell_type": "code",
      "metadata": {
        "id": "KLQB7pdBxcuE",
        "colab_type": "code",
        "colab": {}
      },
      "source": [
        ""
      ],
      "execution_count": 0,
      "outputs": []
    }
  ]
}