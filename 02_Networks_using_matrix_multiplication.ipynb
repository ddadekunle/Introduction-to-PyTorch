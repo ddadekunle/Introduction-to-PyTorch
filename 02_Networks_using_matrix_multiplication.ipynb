{
  "nbformat": 4,
  "nbformat_minor": 0,
  "metadata": {
    "colab": {
      "name": "02 Networks using matrix multiplication.ipynb",
      "provenance": [],
      "authorship_tag": "ABX9TyNvqRfVFn/7wMGM1jkXGWMF"
    },
    "kernelspec": {
      "name": "python3",
      "display_name": "Python 3"
    }
  },
  "cells": [
    {
      "cell_type": "code",
      "metadata": {
        "id": "4xvnNvy_mdDe",
        "colab_type": "code",
        "colab": {}
      },
      "source": [
        "# We want to work with matrix weight and not not a single vector\n",
        "\n",
        "torch.manual_seed(7)"
      ],
      "execution_count": 0,
      "outputs": []
    },
    {
      "cell_type": "code",
      "metadata": {
        "id": "DlFTa03ZmyUZ",
        "colab_type": "code",
        "colab": {}
      },
      "source": [
        "features = torch.randn((1,3))\n"
      ],
      "execution_count": 0,
      "outputs": []
    },
    {
      "cell_type": "code",
      "metadata": {
        "id": "Lg8Ylg2mm9xa",
        "colab_type": "code",
        "colab": {}
      },
      "source": [
        "n_input = features.shape[1]\n",
        "n_hidden = 2\n",
        "n_output = 1\n"
      ],
      "execution_count": 0,
      "outputs": []
    },
    {
      "cell_type": "code",
      "metadata": {
        "id": "vW6o12dLnSka",
        "colab_type": "code",
        "colab": {}
      },
      "source": [
        "W1 = torch.randn(n_input, n_hidden)\n",
        "\n",
        "W2 = torch.randn(n_hidden, n_output)\n"
      ],
      "execution_count": 0,
      "outputs": []
    },
    {
      "cell_type": "code",
      "metadata": {
        "id": "j1NLh88ynnTL",
        "colab_type": "code",
        "colab": {}
      },
      "source": [
        "B1 = torch.randn((1, n_hidden))\n",
        "\n",
        "B2 = torch.randn((1, n_output))"
      ],
      "execution_count": 0,
      "outputs": []
    }
  ]
}